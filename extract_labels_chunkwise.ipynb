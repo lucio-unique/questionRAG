{
 "cells": [
  {
   "cell_type": "markdown",
   "metadata": {},
   "source": [
    "## 1. Configuration"
   ]
  },
  {
   "cell_type": "code",
   "execution_count": 1,
   "metadata": {},
   "outputs": [],
   "source": [
    "# ipython kernel install --name \".venv\" --user\n",
    "import os\n",
    "from openai import AzureOpenAI\n",
    "from string import Template\n",
    "import json\n",
    "from timeit import default_timer as timer\n",
    "from dotenv import load_dotenv\n",
    "from time import sleep"
   ]
  },
  {
   "cell_type": "code",
   "execution_count": 2,
   "metadata": {},
   "outputs": [
    {
     "name": "stdout",
     "output_type": "stream",
     "text": [
      "\n",
      "Extract labels from the text following at the end as described in the immediately following instuctions:\n",
      "0.a Do NOT add the word json at the beginning of the response. DO NOT add the following characters: ``` at the beginning of the response.\n",
      "0.b ALWAYS FINISH THE OUTPUT. Never send partial responses. Your response only includes a json list with the label objects.\n",
      "Return only valid json. Do not add the word json at the beginning or the following characters: ```.\n",
      "\n",
      "1. Create a json list and add the labels to it as json objects. A label is the generic term of an entity/object/instance that appears in the text.\n",
      "Possible labels are: document, concept, person, location, date, company etc. Find labels beyond the scope mentioned. Find labels that are relevant in the text. Find labels as diverse as possible.\n",
      "Connections/Relationships are not Labels. Do not add relationship to the labels.\n",
      "Example:\n",
      "Labels are the generic term of the entity, Example: Document for Appendix B.7, Person for Donald Trump, Location for New York\n",
      "Labels should be far back, Examples: Location instead of City; Person instead of Politician; Document instead of Appendix\n",
      "\n",
      "2. The label object has a name and description property. The name is a single word or possibly very few words to capture its meaning. The description is a stentence describing what the label represents.\n",
      "Examples:\n",
      "{       \n",
      "    \"name\": \"Document\",\n",
      "    \"description\": \"Parts of the document like pages, paragraphs, appendices\",\n",
      "}\n",
      "\n",
      "{       \n",
      "    \"name\": \"Company\",\n",
      "    \"description\": \"Organizations and business entities\",\n",
      "}\n",
      "\n",
      "3. If multiple instances of the same label appear only add the label once\n",
      "If Apple Inc. and Nestle appear in the text only create one label since both entities fall under the same label\n",
      "\n",
      "\n",
      "3. The output should look like :\n",
      "[{\"name\":string, \"description\":string}, ...]\n",
      "\n",
      "4. Return only valid json. Do NOT add the word json at the beginning of the response. DO NOT add the following characters: ``` at the beginning of the response.\n",
      "\n",
      "Text:\n",
      "$text\n",
      "\n"
     ]
    }
   ],
   "source": [
    "from prompts import EXTRACT_LABELS_PROMPT\n",
    "\n",
    "load_dotenv()\n",
    "\n",
    "print(EXTRACT_LABELS_PROMPT)"
   ]
  },
  {
   "cell_type": "code",
   "execution_count": 3,
   "metadata": {},
   "outputs": [],
   "source": [
    "# Openai configuration\n",
    "openai_api_key=os.getenv(\"OPENAI_API_KEY\")\n",
    "azure_endpoint=os.getenv(\"OPENAI_ENDPOINT\")\n",
    "openai_api_version=os.getenv(\"OPENAI_API_VERSION\")\n",
    "openai_model=os.getenv(\"OPENAI_MODEL\")\n",
    "\n",
    "client = AzureOpenAI(  \n",
    "    api_key=openai_api_key,\n",
    "    azure_endpoint=azure_endpoint,  \n",
    "    api_version=openai_api_version,  \n",
    ")"
   ]
  },
  {
   "cell_type": "markdown",
   "metadata": {},
   "source": [
    "## 2. Helper Functions"
   ]
  },
  {
   "cell_type": "code",
   "execution_count": 8,
   "metadata": {},
   "outputs": [],
   "source": [
    "# Function to call OpenAi\n",
    "def process_gpt(file_prompt, system_msg):\n",
    "    completion = client.chat.completions.create(\n",
    "        model=openai_model,\n",
    "        max_tokens=15000,\n",
    "        temperature=0,\n",
    "        messages=[\n",
    "            {\"role\": \"system\", \"content\": system_msg},\n",
    "            {\"role\": \"user\", \"content\": file_prompt},\n",
    "        ],\n",
    "    )\n",
    "    nlp_results = completion.choices[0].message.content\n",
    "    return nlp_results\n",
    "\n",
    "# Function to extract labels from text\n",
    "def extract_labels_from_chunk(chunk: dict, prompt_template: Template):\n",
    "    text = chunk[\"text\"]\n",
    "    system_msg = \"You are a helpful IT-project that extracts information from documents and returns valid json data and json formatted data only.\"\n",
    "\n",
    "    prompt = Template(prompt_template).substitute(text=text)\n",
    "    TRIES = 3\n",
    "    tries_count = 0\n",
    "    success = False\n",
    "    while not success and tries_count < TRIES: \n",
    "        tries_count += 1\n",
    "        try:\n",
    "            result = process_gpt(file_prompt=prompt, system_msg=system_msg)\n",
    "            labels = json.loads(result)\n",
    "            success = True\n",
    "        except Exception as e:\n",
    "            print(f\"Error processing: \", e)\n",
    "\n",
    "    return labels\n",
    "\n",
    "# Function to extract all labels from array of chunks\n",
    "def extract_labels(chunks: list[dict], prompt_template: Template, chunk_count: int | None = 10, specific_chunk: int | None = None):\n",
    "    chunk_count = chunk_count if chunk_count else len(chunks)\n",
    "    start = timer()\n",
    "    print(f\"Extracting labels for {chunk_count} of {len(chunks)} chunks\")\n",
    "    labels = []\n",
    "    for i, chunk in enumerate(chunks):\n",
    "        start_chunk = timer()\n",
    "        if specific_chunk or (chunk_count and i >= chunk_count): break\n",
    "        print(f\"Extracting labels for chunk {i} of {len(chunks)} chunks\")\n",
    "        sleep(0.1)\n",
    "        chunk_labels = extract_labels_from_chunk(chunk, prompt_template)\n",
    "        labels.extend(chunk_labels)\n",
    "        end_chunk = timer()\n",
    "        print(f\"{end_chunk-start_chunk}s\")\n",
    "\n",
    "    if specific_chunk:\n",
    "        chunk = chunks[specific_chunk]\n",
    "        start_chunk = timer()\n",
    "        print(f\"Extracting labels for chunk {specific_chunk} of {len(chunks)} chunks\")\n",
    "        sleep(0.1)\n",
    "        chunk_labels = extract_labels_from_chunk(chunk, prompt_template)\n",
    "        labels.extend(chunk_labels)\n",
    "        end_chunk = timer()\n",
    "        print(f\"{end_chunk-start_chunk}s\")\n",
    "\n",
    "    end = timer()\n",
    "    print(f\"Pipeline completed in {end-start} seconds for {chunk_count} of {len(chunks)} chunks\")\n",
    "    return labels\n"
   ]
  },
  {
   "cell_type": "markdown",
   "metadata": {},
   "source": [
    "### 3. Running"
   ]
  },
  {
   "cell_type": "code",
   "execution_count": 9,
   "metadata": {},
   "outputs": [
    {
     "name": "stdout",
     "output_type": "stream",
     "text": [
      "Extracting labels for 20 of 528 chunks\n",
      "Extracting labels for chunk 12 of 528 chunks\n",
      "4.014518500000122s\n",
      "Pipeline completed in 4.014705165998748 seconds for 20 of 528 chunks\n",
      "result: \n",
      "[{'name': 'Document', 'description': 'Parts of the document like pages, paragraphs, appendices'}, {'name': 'Company', 'description': 'Organizations and business entities'}, {'name': 'Risk', 'description': 'Potential negative outcomes or dangers associated with investments'}, {'name': 'Investment', 'description': 'The act of allocating resources, usually money, in order to generate income or profit'}, {'name': 'Performance', 'description': 'The return or results of an investment over a period of time'}, {'name': 'Currency', 'description': 'A system of money in general use in a particular country'}, {'name': 'Verification', 'description': 'The process of establishing the truth, accuracy, or validity of something'}, {'name': 'Forecast', 'description': 'A prediction or estimate of future events, especially coming weather or a financial trend'}, {'name': 'Market', 'description': 'A place or system in which commercial dealings are conducted'}, {'name': 'Trend', 'description': 'A general direction in which something is developing or changing'}]\n"
     ]
    }
   ],
   "source": [
    "with open(\"chunks.json\") as f:\n",
    "    chunks = json.load(f)\n",
    "\n",
    "result = extract_labels(chunks, EXTRACT_LABELS_PROMPT, chunk_count=20, specific_chunk = 12)\n",
    "print('result: ')\n",
    "print(result)\n",
    "with open(\"extracted_labels_first_20_chunks.json\", \"w\") as f:\n",
    "    json.dump(result, f)"
   ]
  }
 ],
 "metadata": {
  "kernelspec": {
   "display_name": ".venv",
   "language": "python",
   "name": "python3"
  },
  "language_info": {
   "codemirror_mode": {
    "name": "ipython",
    "version": 3
   },
   "file_extension": ".py",
   "mimetype": "text/x-python",
   "name": "python",
   "nbconvert_exporter": "python",
   "pygments_lexer": "ipython3",
   "version": "3.11.0"
  }
 },
 "nbformat": 4,
 "nbformat_minor": 2
}
