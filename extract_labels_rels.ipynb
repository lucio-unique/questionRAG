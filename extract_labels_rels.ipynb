{
 "cells": [
  {
   "cell_type": "markdown",
   "metadata": {},
   "source": [
    "## 1. Configuration"
   ]
  },
  {
   "cell_type": "code",
   "execution_count": 2,
   "metadata": {},
   "outputs": [],
   "source": [
    "# ipython kernel install --name \".venv\" --user\n",
    "import os\n",
    "from openai import AzureOpenAI\n",
    "from string import Template\n",
    "import json\n",
    "from timeit import default_timer as timer\n",
    "from dotenv import load_dotenv\n",
    "from time import sleep\n",
    "from prompts import EXTRACT_LABELS_AND_RELATIONSHIPS_FROM_QUESTIONS_PROMT\n",
    "import tiktoken"
   ]
  },
  {
   "cell_type": "code",
   "execution_count": 3,
   "metadata": {},
   "outputs": [
    {
     "name": "stdout",
     "output_type": "stream",
     "text": [
      "<Encoding 'o200k_base'>\n"
     ]
    }
   ],
   "source": [
    "# Openai configuration\n",
    "openai_api_key=os.getenv(\"OPENAI_API_KEY\")\n",
    "azure_endpoint=os.getenv(\"OPENAI_ENDPOINT\")\n",
    "openai_api_version=os.getenv(\"OPENAI_API_VERSION\")\n",
    "openai_model=os.getenv(\"OPENAI_MODEL\")\n",
    "\n",
    "client = AzureOpenAI(  \n",
    "    api_key=openai_api_key,\n",
    "    azure_endpoint=azure_endpoint,  \n",
    "    api_version=openai_api_version,  \n",
    ")\n",
    "encoding = tiktoken.encoding_for_model(openai_model)\n",
    "\n",
    "print(encoding)"
   ]
  },
  {
   "cell_type": "markdown",
   "metadata": {},
   "source": [
    "## 2. Helper Functions"
   ]
  },
  {
   "cell_type": "code",
   "execution_count": 4,
   "metadata": {},
   "outputs": [],
   "source": [
    "# Function to call OpenAi\n",
    "def process_gpt(file_prompt, system_msg):\n",
    "    completion = client.chat.completions.create(\n",
    "        model=openai_model,\n",
    "        max_tokens=15000,\n",
    "        temperature=0,\n",
    "        messages=[\n",
    "            {\"role\": \"system\", \"content\": system_msg},\n",
    "            {\"role\": \"user\", \"content\": file_prompt},\n",
    "        ],\n",
    "    )\n",
    "    nlp_results = completion.choices[0].message.content\n",
    "    return nlp_results\n",
    "\n",
    "MAX_CONTEXT = 100000\n",
    "\n",
    "# Function to extract labels and relationships from competence questions and chunks as context\n",
    "def extract_labels_rels_from_questions(prompt_template, questionList: list[str], chunks: list[dict]):\n",
    "    start = timer()\n",
    "    system_msg = \"You are a helpful IT-project that extracts information from documents and returns valid json data and json formatted data only.\"\n",
    "\n",
    "    context = \"\"\n",
    "    token_count = 0\n",
    "    for chunk in chunks:\n",
    "        token_count += len(encoding.encode(chunk[\"text\"]))\n",
    "        if token_count > MAX_CONTEXT: break\n",
    "        context += chunk[\"text\"]\n",
    "\n",
    "    result = []\n",
    "    for q in questionList:\n",
    "        file_prompt = Template(prompt_template).substitute(question=q, context=context)\n",
    "        ls_n_rs = json.loads(process_gpt(file_prompt, system_msg))\n",
    "        result.append({\"question\": q, \"labels\": ls_n_rs[\"labels\"], \"relationships\": ls_n_rs[\"relationships\"]})\n",
    "    \n",
    "    end = timer()\n",
    "    print(f\"Pipeline completed in {end-start} seconds\")\n",
    "    return result \n"
   ]
  },
  {
   "cell_type": "markdown",
   "metadata": {},
   "source": [
    "### 3. Running"
   ]
  },
  {
   "cell_type": "code",
   "execution_count": null,
   "metadata": {},
   "outputs": [
    {
     "name": "stdout",
     "output_type": "stream",
     "text": [
      "Pipeline completed in 322.24565508399974 seconds\n",
      "[{'question': 'How many transactions and portfolio companies does Unigestion target?', 'labels': [{'name': 'Transaction', 'description': 'Deals or investments made by a fund, including GP-led deals, direct secondaries, and fund/LP stakes.'}, {'name': 'Portfolio Company', 'description': \"Companies that are part of a fund's investment portfolio, often targeted for growth and value creation.\"}, {'name': 'Fund', 'description': 'An investment vehicle that pools capital from investors to invest in various assets, including secondary markets.'}, {'name': 'General Partner (GP)', 'description': \"The entity responsible for managing a private equity fund, making investment decisions, and overseeing the fund's operations.\"}, {'name': 'Limited Partner (LP)', 'description': 'Investors who provide capital to a private equity fund but do not have a role in managing the fund.'}, {'name': 'Investment Strategy', 'description': 'The approach or plan adopted by a fund to achieve its investment goals, including types of transactions and target sectors.'}], 'relationships': ['Fund|INVESTS_IN|Portfolio Company', 'General Partner|MANAGES|Fund', 'Limited Partner|INVESTS_IN|Fund', 'Transaction|TARGETS|Portfolio Company', 'Fund|USES|Investment Strategy']}, {'question': 'What are the key features of the Unigestion Fusion strategy?', 'labels': [{'name': 'Investment Strategy', 'description': 'Approaches and methods used to allocate assets and manage investments to achieve specific financial goals.'}, {'name': 'Portfolio Company', 'description': 'A business that is owned or invested in by a private equity firm, venture capital firm, or similar investment entity.'}, {'name': 'General Partner (GP)', 'description': \"An entity or individual responsible for managing a private equity fund, making investment decisions, and overseeing the fund's operations.\"}, {'name': 'Limited Partner (LP)', 'description': \"An investor in a private equity fund who provides capital but does not have a role in the fund's management.\"}, {'name': 'Transaction', 'description': 'A business deal or agreement, such as an acquisition, merger, or investment, involving the transfer of assets or securities.'}, {'name': 'Fund', 'description': 'A pooled investment vehicle that allocates capital to generate returns, often managed by a General Partner.'}, {'name': 'ESG Criteria', 'description': 'Environmental, Social, and Governance factors considered in investment decision-making to assess sustainability and ethical impact.'}], 'relationships': ['Investment Strategy|APPLIED_TO|Portfolio Company', 'General Partner|MANAGES|Fund', 'Limited Partner|INVESTS_IN|Fund', 'Fund|INVESTS_IN|Portfolio Company', 'Transaction|INVOLVES|Portfolio Company', 'Fund|USES|Investment Strategy', 'ESG Criteria|INTEGRATED_INTO|Investment Strategy']}, {'question': 'Can you provide examples of successful past deals Unigestion has managed?', 'labels': [{'name': 'Fund', 'description': 'Pooled investment vehicle that allocates capital to generate returns.'}, {'name': 'Portfolio Company', 'description': 'A business that is owned or invested in by a private equity firm, venture capital firm, or similar investment entity.'}, {'name': 'General Partner (GP)', 'description': 'An entity or individual responsible for managing a private equity fund and making investment decisions.'}, {'name': 'Limited Partner (LP)', 'description': \"An investor in a private equity fund who provides capital but does not have a role in the fund's management.\"}, {'name': 'Transaction', 'description': 'A financial deal involving the buying, selling, or restructuring of assets or companies.'}, {'name': 'Investment Strategy', 'description': 'A plan or approach for allocating capital in order to achieve specific financial goals.'}, {'name': 'Exit', 'description': 'The process of selling an investment in a portfolio company, typically to realize a return.'}], 'relationships': ['Fund|INVESTS_IN|Portfolio Company', 'General Partner|MANAGES|Fund', 'Limited Partner|INVESTS_IN|Fund', 'Fund|EXECUTES|Transaction', 'Transaction|INVOLVES|Portfolio Company', 'Fund|USES|Investment Strategy', 'Portfolio Company|HAS|Exit']}, {'question': 'Which investment partners contribute to Unigestion’s deal sourcing?', 'labels': [{'name': 'Investment Partner', 'description': 'Entities or individuals that collaborate with Unigestion to source and execute investment deals.'}, {'name': 'Deal', 'description': 'Investment transactions involving the acquisition or sale of assets or stakes in companies.'}, {'name': 'Fund', 'description': 'Pooled investment vehicle managed by Unigestion to allocate capital and generate returns.'}, {'name': 'General Partner (GP)', 'description': 'The entity responsible for managing a private equity fund and making investment decisions.'}, {'name': 'Limited Partner (LP)', 'description': 'Investors who provide capital to a private equity fund but do not participate in its management.'}, {'name': 'Portfolio Company', 'description': 'A company in which a private equity fund has invested.'}], 'relationships': ['Investment Partner|CONTRIBUTES_TO|Deal', 'Deal|INVOLVES|Fund', 'General Partner|MANAGES|Fund', 'Limited Partner|INVESTS_IN|Fund', 'Fund|INVESTS_IN|Portfolio Company', 'General Partner|SELECTS|Portfolio Company']}, {'question': 'What are some portfolio companies that Unigestion has invested in?', 'labels': [{'name': 'Portfolio Company', 'description': 'A business that is owned or invested in by a private equity firm, venture capital firm, or similar investment entity.'}, {'name': 'Fund', 'description': 'A pooled investment vehicle that allocates capital to generate returns, often managed by a private equity firm.'}, {'name': 'General Partner (GP)', 'description': 'An entity or individual responsible for managing a private equity fund and making investment decisions.'}, {'name': 'Limited Partner (LP)', 'description': \"An investor in a private equity fund who provides capital but does not have a role in the fund's management.\"}, {'name': 'Investment Strategy', 'description': 'A plan or approach used by a fund to allocate capital and achieve investment objectives.'}], 'relationships': ['Fund|INVESTS_IN|Portfolio Company', 'General Partner|MANAGES|Fund', 'Limited Partner|INVESTS_IN|Fund', 'Fund|USES|Investment Strategy']}, {'question': 'Which industries or sectors are most represented in Unigestion’s secondary investments?', 'labels': [{'name': 'Industry', 'description': 'Categories of economic activity, such as healthcare, technology, and consumer goods.'}, {'name': 'Sector', 'description': 'Subdivisions within industries, focusing on specific market segments.'}, {'name': 'Investment', 'description': 'Financial assets or stakes in companies acquired for potential returns.'}, {'name': 'Portfolio Company', 'description': 'Companies that are part of an investment portfolio, often held by private equity or investment funds.'}, {'name': 'Fund', 'description': 'A pooled investment vehicle that allocates capital to generate returns.'}, {'name': 'Asset Manager', 'description': 'Entities or individuals responsible for managing investment portfolios on behalf of clients.'}, {'name': 'Transaction', 'description': 'The act of buying, selling, or investing in financial assets or companies.'}], 'relationships': ['Fund|INVESTS_IN|Portfolio Company', 'Portfolio Company|BELONGS_TO|Industry', 'Portfolio Company|OPERATES_IN|Sector', 'Asset Manager|MANAGES|Fund', 'Transaction|INVOLVES|Portfolio Company', 'Transaction|TARGETS|Industry']}]\n"
     ]
    },
    {
     "ename": "TypeError",
     "evalue": "the JSON object must be str, bytes or bytearray, not list",
     "output_type": "error",
     "traceback": [
      "\u001b[31m---------------------------------------------------------------------------\u001b[39m",
      "\u001b[31mTypeError\u001b[39m                                 Traceback (most recent call last)",
      "\u001b[36mCell\u001b[39m\u001b[36m \u001b[39m\u001b[32mIn[4]\u001b[39m\u001b[32m, line 11\u001b[39m\n\u001b[32m      8\u001b[39m \u001b[38;5;28mprint\u001b[39m(result)\n\u001b[32m     10\u001b[39m \u001b[38;5;28;01mwith\u001b[39;00m \u001b[38;5;28mopen\u001b[39m(\u001b[33m\"\u001b[39m\u001b[33mlabels_and_rels_graph_q.json\u001b[39m\u001b[33m\"\u001b[39m, \u001b[33m\"\u001b[39m\u001b[33mw\u001b[39m\u001b[33m\"\u001b[39m) \u001b[38;5;28;01mas\u001b[39;00m f:\n\u001b[32m---> \u001b[39m\u001b[32m11\u001b[39m     f.write(json.dumps(\u001b[43mjson\u001b[49m\u001b[43m.\u001b[49m\u001b[43mloads\u001b[49m\u001b[43m(\u001b[49m\u001b[43mresult\u001b[49m\u001b[43m)\u001b[49m))\n",
      "\u001b[36mFile \u001b[39m\u001b[32m/Library/Frameworks/Python.framework/Versions/3.11/lib/python3.11/json/__init__.py:339\u001b[39m, in \u001b[36mloads\u001b[39m\u001b[34m(s, cls, object_hook, parse_float, parse_int, parse_constant, object_pairs_hook, **kw)\u001b[39m\n\u001b[32m    337\u001b[39m \u001b[38;5;28;01melse\u001b[39;00m:\n\u001b[32m    338\u001b[39m     \u001b[38;5;28;01mif\u001b[39;00m \u001b[38;5;129;01mnot\u001b[39;00m \u001b[38;5;28misinstance\u001b[39m(s, (\u001b[38;5;28mbytes\u001b[39m, \u001b[38;5;28mbytearray\u001b[39m)):\n\u001b[32m--> \u001b[39m\u001b[32m339\u001b[39m         \u001b[38;5;28;01mraise\u001b[39;00m \u001b[38;5;167;01mTypeError\u001b[39;00m(\u001b[33mf\u001b[39m\u001b[33m'\u001b[39m\u001b[33mthe JSON object must be str, bytes or bytearray, \u001b[39m\u001b[33m'\u001b[39m\n\u001b[32m    340\u001b[39m                         \u001b[33mf\u001b[39m\u001b[33m'\u001b[39m\u001b[33mnot \u001b[39m\u001b[38;5;132;01m{\u001b[39;00ms.\u001b[34m__class__\u001b[39m.\u001b[34m__name__\u001b[39m\u001b[38;5;132;01m}\u001b[39;00m\u001b[33m'\u001b[39m)\n\u001b[32m    341\u001b[39m     s = s.decode(detect_encoding(s), \u001b[33m'\u001b[39m\u001b[33msurrogatepass\u001b[39m\u001b[33m'\u001b[39m)\n\u001b[32m    343\u001b[39m \u001b[38;5;28;01mif\u001b[39;00m (\u001b[38;5;28mcls\u001b[39m \u001b[38;5;129;01mis\u001b[39;00m \u001b[38;5;28;01mNone\u001b[39;00m \u001b[38;5;129;01mand\u001b[39;00m object_hook \u001b[38;5;129;01mis\u001b[39;00m \u001b[38;5;28;01mNone\u001b[39;00m \u001b[38;5;129;01mand\u001b[39;00m\n\u001b[32m    344\u001b[39m         parse_int \u001b[38;5;129;01mis\u001b[39;00m \u001b[38;5;28;01mNone\u001b[39;00m \u001b[38;5;129;01mand\u001b[39;00m parse_float \u001b[38;5;129;01mis\u001b[39;00m \u001b[38;5;28;01mNone\u001b[39;00m \u001b[38;5;129;01mand\u001b[39;00m\n\u001b[32m    345\u001b[39m         parse_constant \u001b[38;5;129;01mis\u001b[39;00m \u001b[38;5;28;01mNone\u001b[39;00m \u001b[38;5;129;01mand\u001b[39;00m object_pairs_hook \u001b[38;5;129;01mis\u001b[39;00m \u001b[38;5;28;01mNone\u001b[39;00m \u001b[38;5;129;01mand\u001b[39;00m \u001b[38;5;129;01mnot\u001b[39;00m kw):\n",
      "\u001b[31mTypeError\u001b[39m: the JSON object must be str, bytes or bytearray, not list"
     ]
    }
   ],
   "source": [
    "with open(\"data/bob/questions.json\") as f:\n",
    "    questions = json.load(f)\n",
    "\n",
    "with open(\"chunks.json\") as f:\n",
    "    chunks = json.load(f)\n",
    "\n",
    "result = extract_labels_rels_from_questions(EXTRACT_LABELS_AND_RELATIONSHIPS_FROM_QUESTIONS_PROMT, questions, chunks)\n",
    "print(result)\n",
    "\n",
    "with open(\"data/bob/labels_rels.json\", \"w\") as f:\n",
    "    f.write(json.dumps(result))"
   ]
  }
 ],
 "metadata": {
  "kernelspec": {
   "display_name": ".venv",
   "language": "python",
   "name": "python3"
  },
  "language_info": {
   "codemirror_mode": {
    "name": "ipython",
    "version": 3
   },
   "file_extension": ".py",
   "mimetype": "text/x-python",
   "name": "python",
   "nbconvert_exporter": "python",
   "pygments_lexer": "ipython3",
   "version": "3.11.0"
  }
 },
 "nbformat": 4,
 "nbformat_minor": 2
}
