{
 "cells": [
  {
   "cell_type": "code",
   "execution_count": 1,
   "metadata": {},
   "outputs": [
    {
     "data": {
      "text/plain": [
       "True"
      ]
     },
     "execution_count": 1,
     "metadata": {},
     "output_type": "execute_result"
    }
   ],
   "source": [
    "import os\n",
    "from openai import AzureOpenAI\n",
    "from string import Template\n",
    "import json\n",
    "from neo4j import GraphDatabase\n",
    "import glob\n",
    "from timeit import default_timer as timer\n",
    "from dotenv import load_dotenv\n",
    "from time import sleep\n",
    "from prompts import EXTRACT_E_AND_R_PROMPT\n",
    " \n",
    "load_dotenv()\n"
   ]
  },
  {
   "cell_type": "code",
   "execution_count": 2,
   "metadata": {},
   "outputs": [],
   "source": [
    "# Openai configuration\n",
    "openai_api_key=os.getenv(\"OPENAI_API_KEY\")\n",
    "azure_endpoint=os.getenv(\"OPENAI_ENDPOINT\")\n",
    "openai_api_version=os.getenv(\"OPENAI_API_VERSION\")\n",
    "openai_model=os.getenv(\"OPENAI_MODEL\")\n",
    "\n",
    "client = AzureOpenAI(  \n",
    "    api_key=openai_api_key,\n",
    "    azure_endpoint=azure_endpoint,  \n",
    "    api_version=openai_api_version,  \n",
    ")"
   ]
  },
  {
   "cell_type": "code",
   "execution_count": null,
   "metadata": {},
   "outputs": [],
   "source": [
    "def process_gpt(file_prompt, system_msg):\n",
    "    completion = client.chat.completions.create(\n",
    "        model=openai_model,\n",
    "        max_tokens=15000,\n",
    "        temperature=0,\n",
    "        messages=[\n",
    "            {\"role\": \"system\", \"content\": system_msg},\n",
    "            {\"role\": \"user\", \"content\": file_prompt},\n",
    "        ],\n",
    "    )\n",
    "    nlp_results = completion.choices[0].message.content\n",
    "    sleep(8)\n",
    "    return nlp_results\n",
    "\n",
    "def extract(chunk, prompt, labelsText, relsText, on_try, i):\n",
    "    start = timer()\n",
    "    print(f\"Extract for chunk {i} on try {on_try}\")\n",
    "    system_msg = \"You are a helpful IT-project that extracts information from documents and returns valid json data and json formatted data only.\"\n",
    "\n",
    "    prompt = Template(prompt).substitute(ctext=chunk[\"text\"], labels=labelsText, rels=relsText)\n",
    "    try: \n",
    "        result = json.loads(process_gpt(prompt, system_msg))\n",
    "    except:\n",
    "        end = timer()\n",
    "        print(f\"Failed: {end-start}s, try {on_try}\")\n",
    "        raise Exception(\"failed\")\n",
    "\n",
    "    end = timer()\n",
    "    print(f\"Success: {end-start}s, try {on_try}\")\n",
    "    return result\n",
    "\n",
    "    \n",
    "\n",
    "def extract_e_r(chunks, prompt, labels, rels, tries = 3):\n",
    "    labelsText = \"\"\n",
    "    for label in labels:\n",
    "        labelsText += f'{label[\"name\"]}: {label[\"description\"]}\\n'\n",
    "    \n",
    "    relsText = \"\"\n",
    "    for rel in rels:\n",
    "        relsText += f\"{rel}\\n\"\n",
    "\n",
    "    \n",
    "    results = []\n",
    "    failed = []\n",
    "\n",
    "    start = timer()\n",
    "    print(f\"Extracting for {len(chunks)} chunks\")\n",
    "\n",
    "\n",
    "\n",
    "    for i, chunk in enumerate(chunks):\n",
    "        on_try = 0\n",
    "        while on_try < tries:\n",
    "            on_try += 1\n",
    "            try:\n",
    "                result = extract(chunk, prompt, labelsText, relsText, on_try, i)\n",
    "                results.append({\n",
    "                    \"chunkId\": chunk[\"id\"],\n",
    "                    \"entities\": result[\"entities\"],\n",
    "                    \"relationships\": result[\"relationships\"]\n",
    "                })\n",
    "                on_try = tries\n",
    "            except:\n",
    "                if on_try >= tries: failed.append(chunk[\"id\"])\n",
    "\n",
    "    end = timer()\n",
    "    print(f\"Pipeline completed in {end-start} seconds\")\n",
    "    return results, failed"
   ]
  },
  {
   "cell_type": "code",
   "execution_count": null,
   "metadata": {},
   "outputs": [
    {
     "name": "stdout",
     "output_type": "stream",
     "text": [
      "Extracting for 5 chunks\n",
      "Extract for chunk 0 on try 1\n",
      "Success: 14.803175041999566s, try 1\n",
      "Extract for chunk 1 on try 1\n",
      "Failed: 9.411060791999262s, try 1\n",
      "Extract for chunk 1 on try 2\n",
      "Failed: 10.036680667000837s, try 2\n",
      "Extract for chunk 1 on try 3\n",
      "Failed: 10.24050675000035s, try 3\n",
      "Extract for chunk 2 on try 1\n",
      "Failed: 11.264269290999437s, try 1\n",
      "Extract for chunk 2 on try 2\n",
      "Failed: 16.382902041001216s, try 2\n",
      "Extract for chunk 2 on try 3\n",
      "Failed: 13.19817250000051s, try 3\n",
      "Extract for chunk 3 on try 1\n",
      "Success: 10.130062166999778s, try 1\n",
      "Extract for chunk 4 on try 1\n",
      "Failed: 9.23507462499947s, try 1\n",
      "Extract for chunk 4 on try 2\n",
      "Failed: 11.87857724999958s, try 2\n",
      "Extract for chunk 4 on try 3\n",
      "Failed: 10.265949041000567s, try 3\n",
      "Pipeline completed in 126.84969916700175 seconds\n",
      "[{'chunkId': 'chunk_vbwu0qkt4zjxiy34s7sd8zdy', 'entities': [{'label': 'Fund', 'name': 'Unigestion Secondary VI'}, {'label': 'Transaction', 'name': 'GP-led deals'}, {'label': 'Transaction', 'name': 'Direct Secondaries'}, {'label': 'Transaction', 'name': 'Fund/LP stakes'}, {'label': 'Transaction', 'name': 'Structured secondaries'}, {'label': 'Portfolio Company', 'name': 'Portfolio Company A'}, {'label': 'Portfolio Company', 'name': 'Portfolio Company B'}, {'label': 'General Partner', 'name': 'Mid-market GP'}, {'label': 'General Partner', 'name': 'US growth capital GP'}, {'label': 'Limited Partner', 'name': 'LP Stakeholder'}, {'label': 'Investment Strategy', 'name': 'Secondary Investment Strategy'}, {'label': 'Deal', 'name': 'Innovative Deal'}], 'relationships': ['Unigestion Secondary VI|EXECUTES|GP-led deals', 'Unigestion Secondary VI|EXECUTES|Direct Secondaries', 'Unigestion Secondary VI|EXECUTES|Fund/LP stakes', 'Unigestion Secondary VI|EXECUTES|Structured secondaries', 'GP-led deals|TARGETS|Portfolio Company A', 'Direct Secondaries|INVOLVES|Portfolio Company A', 'Fund/LP stakes|TARGETS|Portfolio Company B', 'Structured secondaries|INVOLVES|Portfolio Company B', 'Mid-market GP|MANAGES|Unigestion Secondary VI', 'US growth capital GP|MANAGES|Unigestion Secondary VI', 'LP Stakeholder|INVESTS_IN|Unigestion Secondary VI', 'Unigestion Secondary VI|USES|Secondary Investment Strategy', 'Secondary Investment Strategy|APPLIED_TO|Portfolio Company A', 'Secondary Investment Strategy|APPLIED_TO|Portfolio Company B', 'Innovative Deal|INVOLVES|Unigestion Secondary VI', 'Portfolio Company A|BELONGS_TO|Industry', 'Portfolio Company B|BELONGS_TO|Industry']}, {'chunkId': 'chunk_bavtz8b4dyho3ckpjal6xm1s', 'entities': [{'label': 'Fund', 'name': 'Unigestion Secondary VI'}, {'label': 'General Partner', 'name': 'Unigestion (Jersey) GP Limited'}, {'label': 'Asset Manager', 'name': 'Unigestion'}], 'relationships': ['Unigestion (Jersey) GP Limited|MANAGES|Unigestion Secondary VI', 'Unigestion|MANAGES|Unigestion Secondary VI']}]\n"
     ]
    }
   ],
   "source": [
    "with open(\"semanticly_pruned.json\") as f:\n",
    "    labels = json.load(f)\n",
    "\n",
    "with open(\"primitively_pruned.json\") as f:\n",
    "    rels = json.load(f)[\"relationships\"]\n",
    "\n",
    "with open(\"chunks.json\") as f:\n",
    "    chunks = json.load(f)[:5]\n",
    "\n",
    "results, failed = extract_e_r(chunks, EXTRACT_E_AND_R_PROMPT, labels, rels)\n",
    "print(\"results: \", results)\n",
    "print(\"failed: \", failed)\n",
    "\n",
    "\n",
    "with open(\"es_n_rs.json\", \"w\") as f:\n",
    "    f.write(json.dumps(results))\n",
    "\n",
    "with open(\"failed.json\", \"w\") as f:\n",
    "    f.write(json.dumps(failed))"
   ]
  }
 ],
 "metadata": {
  "kernelspec": {
   "display_name": ".venv",
   "language": "python",
   "name": "python3"
  },
  "language_info": {
   "codemirror_mode": {
    "name": "ipython",
    "version": 3
   },
   "file_extension": ".py",
   "mimetype": "text/x-python",
   "name": "python",
   "nbconvert_exporter": "python",
   "pygments_lexer": "ipython3",
   "version": "3.11.0"
  }
 },
 "nbformat": 4,
 "nbformat_minor": 2
}
